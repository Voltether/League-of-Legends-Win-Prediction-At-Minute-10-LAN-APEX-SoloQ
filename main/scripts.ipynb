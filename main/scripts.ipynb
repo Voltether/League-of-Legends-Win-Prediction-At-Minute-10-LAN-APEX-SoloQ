{
 "cells": [
  {
   "cell_type": "markdown",
   "id": "755d5d7d",
   "metadata": {},
   "source": [
    "El siguiente libro requiere de los archivos presentes en el archivo \"functions.py\"\n",
    "\n",
    "**Este libro es útil si lo que se busca es generar un .csv con el historial de partidas de 1 SOLO JUGADOR. Si se quiere analizar una población más grande, pasar al libro \"population_scripts.ipynb\". De ser el caso, lo único de interés aquí es la definición de la función \"get_df_data\" en el bloque 10**\n",
    "\n",
    "La riot api key se reestablece cada 24 horas desde la página de la api de riot games\n",
    "\n",
    "Importante recordar el límite de request a la api de 5 cada 2 segundos y 100 cada 2 miutos"
   ]
  },
  {
   "cell_type": "code",
   "execution_count": 1,
   "id": "db70c74c",
   "metadata": {},
   "outputs": [
    {
     "data": {
      "text/plain": [
       "True"
      ]
     },
     "execution_count": 1,
     "metadata": {},
     "output_type": "execute_result"
    }
   ],
   "source": [
    "from dotenv import load_dotenv\n",
    "import requests\n",
    "import os\n",
    "import pandas as pd\n",
    "import time\n",
    "load_dotenv()"
   ]
  },
  {
   "cell_type": "markdown",
   "id": "9a067bc1",
   "metadata": {},
   "source": [
    "Se introduce el nombre y el tagLine de la cuenta de RIOT a fin de obtener el PUUID asociado."
   ]
  },
  {
   "cell_type": "code",
   "execution_count": 2,
   "id": "3ccd0e5d",
   "metadata": {},
   "outputs": [],
   "source": [
    "gameName = 'Natanaël%20Cano'  #El %20 indica un espacio\n",
    "tagLine = 'NATA'\n",
    "api_key = os.getenv('RIOT_API_KEY') #Se actializa cada 24 horas"
   ]
  },
  {
   "cell_type": "code",
   "execution_count": 3,
   "id": "1159dbc0",
   "metadata": {},
   "outputs": [
    {
     "name": "stdout",
     "output_type": "stream",
     "text": [
      "jsPdXjm4uDyQz5yxApVwAEr-NeF8x8QRgzto0VcFyFe0RoJID_ZYQBFXujbry4kwUPXm5UhZXVmn6Q\n"
     ]
    }
   ],
   "source": [
    "from functions import get_puuid\n",
    "\n",
    "puuid = get_puuid(gameName=gameName, tagLine=tagLine, api_key=api_key)\n",
    "\"\"\"\n",
    "Se obtiene el PUUID del jugador seleccionado\n",
    "\"\"\"\n",
    "print(puuid)"
   ]
  },
  {
   "cell_type": "markdown",
   "id": "441bec58",
   "metadata": {},
   "source": [
    "El siguiente bloque se utiliza para buscar el historial de partidas de un jugador. Por defecto utilizamos matchtype = 'ranked' para analizar sólo partidas competitivas, pero se aceptan los siguienets argumentos:\n",
    "\n",
    "matchtype = { ranked, normal, tourney, tutorial}\n",
    "\n",
    "Sin embargo, esto muestra TODAS las partidas ranked. Para filtrar sólo partidas de SoloQ, se añade el queue id. Lista completa en:\n",
    "https://static.developer.riotgames.com/docs/lol/queues.json\n",
    "\n",
    "queueid = {420 = soloq, 440 = flex 5v5} son las colas clasificatorias actuales."
   ]
  },
  {
   "cell_type": "code",
   "execution_count": null,
   "id": "169a450a",
   "metadata": {},
   "outputs": [],
   "source": [
    "matchtype = 'ranked'\n",
    "queueid = '420' #Default para SoloQ\n",
    "start = '0'\n",
    "count = '5'"
   ]
  },
  {
   "cell_type": "code",
   "execution_count": 5,
   "id": "145a5d44",
   "metadata": {},
   "outputs": [
    {
     "name": "stdout",
     "output_type": "stream",
     "text": [
      "['LA1_1642972444', 'LA1_1642962195', 'LA1_1642710668', 'LA1_1642704329', 'LA1_1642695796']\n"
     ]
    }
   ],
   "source": [
    "from functions import get_matchids\n",
    "history = get_matchids(puuid=puuid, queueid=queueid, matchtype=matchtype, start=start, count=count, api_key=api_key)\n",
    "print(history)"
   ]
  },
  {
   "cell_type": "markdown",
   "id": "a8b2613b",
   "metadata": {},
   "source": [
    "El siguiente bloque es \"el más importante\" dado que reune toda la información recopilada hasta el momento. En orden de aparición, enlista:\n",
    "\n",
    "* match id : \t\t\t        id de la partida\n",
    "* my team : \t\t\t        equipo al que pertenece el jugador\n",
    "* gold min 10 (opcional) :\tOro del jugador al minuto 10\n",
    "* team1 gold : \t\t\t    Oro del equipo 100 al min 10\n",
    "* team2 gold : \t\t\t    Oro del equipo 200 al min 10\n",
    "* gold diff :\t\t\t        Diferencia de oro a minuto 10\n",
    "* gold leading team : \t\tA favor de qué equipo es la diferencia de oro\n",
    "* my team ahead gold : \t\tEl equipo del jugador es el de la ventaja. True o False.\n",
    "* team 100 kills :\t\t    kills del equipo 100 al min 10\n",
    "* team 200 kills : \t\t    kills del equipo 200 al min 10\n",
    "* kill diff :\t\t\t        Diferencia de kills a minuto 10\n",
    "* kill leading team : \t\tA favor de qué equipo es la diferencia de kills\n",
    "* my team ahead kills : \t\tEl equipo del jugador es el de la ventaja. True o False.\n",
    "* my team win : \t\t\t    El equipo del jugador gana. True o False"
   ]
  },
  {
   "cell_type": "code",
   "execution_count": 6,
   "id": "4ec0b3ac",
   "metadata": {},
   "outputs": [],
   "source": [
    "from functions import get_participant_info, get_gold_at_min10, get_team_gold_difference, get_team_kills_at_10, get_winner\n",
    "\n",
    "csv_path = \"match_stats_min10_NATA.csv\"\n",
    "\"\"\"\n",
    "Con esta info se genera un dataframe y se envían los NO duplicados a un .csv\n",
    "\"\"\"\n",
    "if os.path.exists(csv_path):\n",
    "        df_old = pd.read_csv(csv_path)\n",
    "        data = df_old.to_dict(orient=\"records\")\n",
    "        existing_match_ids = {row[\"match_id\"] for row in data}\n",
    "else:\n",
    "        data = []\n",
    "        existing_match_ids = set()\n",
    "\n",
    "    # --- Procesar cada partida ---\n",
    "for match_id in history:\n",
    "        if match_id in existing_match_ids:\n",
    "            print(f\"[{match_id}] Ya estaba registrado, se omite.\")\n",
    "            continue\n",
    "\n",
    "        try:\n",
    "            # URLs\n",
    "            match_url = f\"https://americas.api.riotgames.com/lol/match/v5/matches/{match_id}?api_key={api_key}\"\n",
    "            timeline_url = f\"https://americas.api.riotgames.com/lol/match/v5/matches/{match_id}/timeline?api_key={api_key}\"\n",
    "\n",
    "            # Requests\n",
    "            match_data = requests.get(match_url).json()\n",
    "            timeline_data = requests.get(timeline_url).json()\n",
    "\n",
    "            # Info del jugador\n",
    "            participant_id, team_id = get_participant_info(match_data, puuid, mode = 'both')\n",
    "            if not participant_id:\n",
    "                print(f\"[{match_id}] PUUID no encontrado.\")\n",
    "                continue\n",
    "\n",
    "            my_team = get_participant_info(match_data, puuid, mode = 'team')\n",
    "\n",
    "            # Determinar victoria\n",
    "            player_info = next((p for p in match_data[\"info\"][\"participants\"] if p[\"puuid\"] == puuid), None)\n",
    "            if not player_info:\n",
    "                print(f\"[{match_id}] No se encontró info del jugador.\")\n",
    "                continue\n",
    "            my_team_win = player_info[\"win\"]\n",
    "\n",
    "            # Oro por equipo\n",
    "            gold_info = get_team_gold_difference(timeline_data, my_team)\n",
    "            if not gold_info:\n",
    "                print(f\"[{match_id}] Error al obtener oro de equipos.\")\n",
    "                continue\n",
    "\n",
    "            # Kills por equipo\n",
    "            kill_info = get_team_kills_at_10(timeline_data, my_team)\n",
    "            if not kill_info:\n",
    "                print(f\"[{match_id}] Error al obtener kills\")\n",
    "                continue\n",
    "\n",
    "            # Mi equipo\n",
    "            my_team_label = 100 if team_id == 100 else 200\n",
    "            my_team_was_ahead_kills = (team_id == 100 and kill_info['kill_diff'] > 0) or \\\n",
    "                                      (team_id == 200 and kill_info['kill_diff'] < 0)\n",
    "            my_team_was_ahead_gold = (team_id == 100 and gold_info[\"leading_team\"] == 1) or \\\n",
    "                                     (team_id == 200 and gold_info[\"leading_team\"] == 2)\n",
    "\n",
    "            # Ganador\n",
    "            winner = get_winner(match_data)\n",
    "\n",
    "            # Agregar fila\n",
    "            data.append({\n",
    "                \"match_id\": match_id,\n",
    "                \"my_team\": my_team_label,\n",
    "                \"team1_gold\": gold_info[\"team1_gold\"],\n",
    "                \"team2_gold\": gold_info[\"team2_gold\"],\n",
    "                \"gold_diff\": gold_info[\"difference\"],\n",
    "                \"gold_leading_team\": gold_info[\"leading_team_id\"],\n",
    "                \"my_team_ahead_gold\": my_team_was_ahead_gold,\n",
    "                \"team1_kills\": kill_info['team1_kills'],\n",
    "                \"team2_kills\": kill_info['team2_kills'],\n",
    "                \"kill_diff\": kill_info['kill_diff'],\n",
    "                \"kill_leading_team\": kill_info['kill_leading_team'],\n",
    "                \"my_team_ahead_kills\": my_team_was_ahead_kills,\n",
    "                \"my_team_win\": my_team_win,\n",
    "                \"winner\": winner\n",
    "            })\n",
    "\n",
    "            time.sleep(1)  # Evitar rate limit\n",
    "        except Exception as e:\n",
    "            print(f\"[{match_id}] Error: {e}\")"
   ]
  },
  {
   "cell_type": "markdown",
   "id": "9d17be9c",
   "metadata": {},
   "source": [
    "**NOTA:** El bloque anterior se encuentra también en el archivo \"functions.py\" con nombre get_df_data."
   ]
  },
  {
   "cell_type": "markdown",
   "id": "42bb2295",
   "metadata": {},
   "source": [
    "Ahora con esta información se genera un dataframe (df) y se guarda la info en el .csv \"match_stats_min10\""
   ]
  },
  {
   "cell_type": "code",
   "execution_count": 7,
   "id": "0501b917",
   "metadata": {},
   "outputs": [
    {
     "name": "stdout",
     "output_type": "stream",
     "text": [
      "Guardado en match_stats_min10_NATA.csv\n"
     ]
    }
   ],
   "source": [
    "df = pd.DataFrame(data)\n",
    "df.to_csv(csv_path, index=False)\n",
    "print(f\"Guardado en {csv_path}\")"
   ]
  },
  {
   "cell_type": "code",
   "execution_count": 8,
   "id": "135cf319",
   "metadata": {},
   "outputs": [
    {
     "name": "stdout",
     "output_type": "stream",
     "text": [
      "5\n"
     ]
    }
   ],
   "source": [
    "print(len(data))"
   ]
  },
  {
   "cell_type": "markdown",
   "id": "dacf7ec9",
   "metadata": {},
   "source": [
    "Se lee el csv y se genera un dataframe con toda la info acumulada, df.tail() muesta sólo los últimos elementos del df, a fin de comprobar que se estén almacenando correctamente"
   ]
  },
  {
   "cell_type": "code",
   "execution_count": 9,
   "id": "d8785297",
   "metadata": {},
   "outputs": [
    {
     "data": {
      "application/vnd.microsoft.datawrangler.viewer.v0+json": {
       "columns": [
        {
         "name": "index",
         "rawType": "int64",
         "type": "integer"
        },
        {
         "name": "match_id",
         "rawType": "object",
         "type": "string"
        },
        {
         "name": "my_team",
         "rawType": "int64",
         "type": "integer"
        },
        {
         "name": "team1_gold",
         "rawType": "int64",
         "type": "integer"
        },
        {
         "name": "team2_gold",
         "rawType": "int64",
         "type": "integer"
        },
        {
         "name": "gold_diff",
         "rawType": "int64",
         "type": "integer"
        },
        {
         "name": "gold_leading_team",
         "rawType": "int64",
         "type": "integer"
        },
        {
         "name": "my_team_ahead_gold",
         "rawType": "bool",
         "type": "boolean"
        },
        {
         "name": "team1_kills",
         "rawType": "int64",
         "type": "integer"
        },
        {
         "name": "team2_kills",
         "rawType": "int64",
         "type": "integer"
        },
        {
         "name": "kill_diff",
         "rawType": "int64",
         "type": "integer"
        },
        {
         "name": "kill_leading_team",
         "rawType": "int64",
         "type": "integer"
        },
        {
         "name": "my_team_ahead_kills",
         "rawType": "bool",
         "type": "boolean"
        },
        {
         "name": "my_team_win",
         "rawType": "bool",
         "type": "boolean"
        },
        {
         "name": "winner",
         "rawType": "int64",
         "type": "integer"
        }
       ],
       "ref": "acc34380-865d-40e5-99f1-3e75d75bae5b",
       "rows": [
        [
         "0",
         "LA1_1642972444",
         "200",
         "17258",
         "16582",
         "-676",
         "100",
         "False",
         "7",
         "7",
         "0",
         "0",
         "False",
         "False",
         "100"
        ],
        [
         "1",
         "LA1_1642962195",
         "200",
         "18372",
         "15515",
         "-2857",
         "100",
         "False",
         "8",
         "3",
         "-5",
         "100",
         "True",
         "False",
         "100"
        ],
        [
         "2",
         "LA1_1642710668",
         "200",
         "16587",
         "14087",
         "-2500",
         "100",
         "False",
         "6",
         "2",
         "-4",
         "100",
         "True",
         "False",
         "100"
        ],
        [
         "3",
         "LA1_1642704329",
         "200",
         "16754",
         "16985",
         "231",
         "200",
         "False",
         "7",
         "8",
         "1",
         "200",
         "False",
         "True",
         "200"
        ],
        [
         "4",
         "LA1_1642695796",
         "200",
         "16144",
         "17291",
         "1147",
         "200",
         "False",
         "7",
         "8",
         "1",
         "200",
         "False",
         "False",
         "100"
        ]
       ],
       "shape": {
        "columns": 14,
        "rows": 5
       }
      },
      "text/html": [
       "<div>\n",
       "<style scoped>\n",
       "    .dataframe tbody tr th:only-of-type {\n",
       "        vertical-align: middle;\n",
       "    }\n",
       "\n",
       "    .dataframe tbody tr th {\n",
       "        vertical-align: top;\n",
       "    }\n",
       "\n",
       "    .dataframe thead th {\n",
       "        text-align: right;\n",
       "    }\n",
       "</style>\n",
       "<table border=\"1\" class=\"dataframe\">\n",
       "  <thead>\n",
       "    <tr style=\"text-align: right;\">\n",
       "      <th></th>\n",
       "      <th>match_id</th>\n",
       "      <th>my_team</th>\n",
       "      <th>team1_gold</th>\n",
       "      <th>team2_gold</th>\n",
       "      <th>gold_diff</th>\n",
       "      <th>gold_leading_team</th>\n",
       "      <th>my_team_ahead_gold</th>\n",
       "      <th>team1_kills</th>\n",
       "      <th>team2_kills</th>\n",
       "      <th>kill_diff</th>\n",
       "      <th>kill_leading_team</th>\n",
       "      <th>my_team_ahead_kills</th>\n",
       "      <th>my_team_win</th>\n",
       "      <th>winner</th>\n",
       "    </tr>\n",
       "  </thead>\n",
       "  <tbody>\n",
       "    <tr>\n",
       "      <th>0</th>\n",
       "      <td>LA1_1642972444</td>\n",
       "      <td>200</td>\n",
       "      <td>17258</td>\n",
       "      <td>16582</td>\n",
       "      <td>-676</td>\n",
       "      <td>100</td>\n",
       "      <td>False</td>\n",
       "      <td>7</td>\n",
       "      <td>7</td>\n",
       "      <td>0</td>\n",
       "      <td>0</td>\n",
       "      <td>False</td>\n",
       "      <td>False</td>\n",
       "      <td>100</td>\n",
       "    </tr>\n",
       "    <tr>\n",
       "      <th>1</th>\n",
       "      <td>LA1_1642962195</td>\n",
       "      <td>200</td>\n",
       "      <td>18372</td>\n",
       "      <td>15515</td>\n",
       "      <td>-2857</td>\n",
       "      <td>100</td>\n",
       "      <td>False</td>\n",
       "      <td>8</td>\n",
       "      <td>3</td>\n",
       "      <td>-5</td>\n",
       "      <td>100</td>\n",
       "      <td>True</td>\n",
       "      <td>False</td>\n",
       "      <td>100</td>\n",
       "    </tr>\n",
       "    <tr>\n",
       "      <th>2</th>\n",
       "      <td>LA1_1642710668</td>\n",
       "      <td>200</td>\n",
       "      <td>16587</td>\n",
       "      <td>14087</td>\n",
       "      <td>-2500</td>\n",
       "      <td>100</td>\n",
       "      <td>False</td>\n",
       "      <td>6</td>\n",
       "      <td>2</td>\n",
       "      <td>-4</td>\n",
       "      <td>100</td>\n",
       "      <td>True</td>\n",
       "      <td>False</td>\n",
       "      <td>100</td>\n",
       "    </tr>\n",
       "    <tr>\n",
       "      <th>3</th>\n",
       "      <td>LA1_1642704329</td>\n",
       "      <td>200</td>\n",
       "      <td>16754</td>\n",
       "      <td>16985</td>\n",
       "      <td>231</td>\n",
       "      <td>200</td>\n",
       "      <td>False</td>\n",
       "      <td>7</td>\n",
       "      <td>8</td>\n",
       "      <td>1</td>\n",
       "      <td>200</td>\n",
       "      <td>False</td>\n",
       "      <td>True</td>\n",
       "      <td>200</td>\n",
       "    </tr>\n",
       "    <tr>\n",
       "      <th>4</th>\n",
       "      <td>LA1_1642695796</td>\n",
       "      <td>200</td>\n",
       "      <td>16144</td>\n",
       "      <td>17291</td>\n",
       "      <td>1147</td>\n",
       "      <td>200</td>\n",
       "      <td>False</td>\n",
       "      <td>7</td>\n",
       "      <td>8</td>\n",
       "      <td>1</td>\n",
       "      <td>200</td>\n",
       "      <td>False</td>\n",
       "      <td>False</td>\n",
       "      <td>100</td>\n",
       "    </tr>\n",
       "  </tbody>\n",
       "</table>\n",
       "</div>"
      ],
      "text/plain": [
       "         match_id  my_team  team1_gold  team2_gold  gold_diff  \\\n",
       "0  LA1_1642972444      200       17258       16582       -676   \n",
       "1  LA1_1642962195      200       18372       15515      -2857   \n",
       "2  LA1_1642710668      200       16587       14087      -2500   \n",
       "3  LA1_1642704329      200       16754       16985        231   \n",
       "4  LA1_1642695796      200       16144       17291       1147   \n",
       "\n",
       "   gold_leading_team  my_team_ahead_gold  team1_kills  team2_kills  kill_diff  \\\n",
       "0                100               False            7            7          0   \n",
       "1                100               False            8            3         -5   \n",
       "2                100               False            6            2         -4   \n",
       "3                200               False            7            8          1   \n",
       "4                200               False            7            8          1   \n",
       "\n",
       "   kill_leading_team  my_team_ahead_kills  my_team_win  winner  \n",
       "0                  0                False        False     100  \n",
       "1                100                 True        False     100  \n",
       "2                100                 True        False     100  \n",
       "3                200                False         True     200  \n",
       "4                200                False        False     100  "
      ]
     },
     "execution_count": 9,
     "metadata": {},
     "output_type": "execute_result"
    }
   ],
   "source": [
    "df = pd.read_csv(\"match_stats_min10_NATA.csv\")\n",
    "df.tail()"
   ]
  },
  {
   "cell_type": "code",
   "execution_count": 10,
   "id": "095aff04",
   "metadata": {},
   "outputs": [
    {
     "data": {
      "application/vnd.microsoft.datawrangler.viewer.v0+json": {
       "columns": [
        {
         "name": "index",
         "rawType": "int64",
         "type": "integer"
        },
        {
         "name": "match_id",
         "rawType": "object",
         "type": "string"
        },
        {
         "name": "my_team",
         "rawType": "int64",
         "type": "integer"
        },
        {
         "name": "team1_gold",
         "rawType": "int64",
         "type": "integer"
        },
        {
         "name": "team2_gold",
         "rawType": "int64",
         "type": "integer"
        },
        {
         "name": "gold_diff",
         "rawType": "int64",
         "type": "integer"
        },
        {
         "name": "gold_leading_team",
         "rawType": "int64",
         "type": "integer"
        },
        {
         "name": "my_team_ahead_gold",
         "rawType": "bool",
         "type": "boolean"
        },
        {
         "name": "team1_kills",
         "rawType": "int64",
         "type": "integer"
        },
        {
         "name": "team2_kills",
         "rawType": "int64",
         "type": "integer"
        },
        {
         "name": "kill_diff",
         "rawType": "int64",
         "type": "integer"
        },
        {
         "name": "kill_leading_team",
         "rawType": "int64",
         "type": "integer"
        },
        {
         "name": "my_team_ahead_kills",
         "rawType": "bool",
         "type": "boolean"
        },
        {
         "name": "my_team_win",
         "rawType": "bool",
         "type": "boolean"
        },
        {
         "name": "winner",
         "rawType": "int64",
         "type": "integer"
        }
       ],
       "ref": "7ad2ec5e-e003-42a1-918c-47a68e5a62c9",
       "rows": [
        [
         "0",
         "LA1_1642972444",
         "200",
         "17258",
         "16582",
         "-676",
         "100",
         "False",
         "7",
         "7",
         "0",
         "0",
         "False",
         "False",
         "100"
        ],
        [
         "1",
         "LA1_1642962195",
         "200",
         "18372",
         "15515",
         "-2857",
         "100",
         "False",
         "8",
         "3",
         "-5",
         "100",
         "True",
         "False",
         "100"
        ],
        [
         "2",
         "LA1_1642710668",
         "200",
         "16587",
         "14087",
         "-2500",
         "100",
         "False",
         "6",
         "2",
         "-4",
         "100",
         "True",
         "False",
         "100"
        ],
        [
         "3",
         "LA1_1642704329",
         "200",
         "16754",
         "16985",
         "231",
         "200",
         "False",
         "7",
         "8",
         "1",
         "200",
         "False",
         "True",
         "200"
        ],
        [
         "4",
         "LA1_1642695796",
         "200",
         "16144",
         "17291",
         "1147",
         "200",
         "False",
         "7",
         "8",
         "1",
         "200",
         "False",
         "False",
         "100"
        ]
       ],
       "shape": {
        "columns": 14,
        "rows": 5
       }
      },
      "text/html": [
       "<div>\n",
       "<style scoped>\n",
       "    .dataframe tbody tr th:only-of-type {\n",
       "        vertical-align: middle;\n",
       "    }\n",
       "\n",
       "    .dataframe tbody tr th {\n",
       "        vertical-align: top;\n",
       "    }\n",
       "\n",
       "    .dataframe thead th {\n",
       "        text-align: right;\n",
       "    }\n",
       "</style>\n",
       "<table border=\"1\" class=\"dataframe\">\n",
       "  <thead>\n",
       "    <tr style=\"text-align: right;\">\n",
       "      <th></th>\n",
       "      <th>match_id</th>\n",
       "      <th>my_team</th>\n",
       "      <th>team1_gold</th>\n",
       "      <th>team2_gold</th>\n",
       "      <th>gold_diff</th>\n",
       "      <th>gold_leading_team</th>\n",
       "      <th>my_team_ahead_gold</th>\n",
       "      <th>team1_kills</th>\n",
       "      <th>team2_kills</th>\n",
       "      <th>kill_diff</th>\n",
       "      <th>kill_leading_team</th>\n",
       "      <th>my_team_ahead_kills</th>\n",
       "      <th>my_team_win</th>\n",
       "      <th>winner</th>\n",
       "    </tr>\n",
       "  </thead>\n",
       "  <tbody>\n",
       "    <tr>\n",
       "      <th>0</th>\n",
       "      <td>LA1_1642972444</td>\n",
       "      <td>200</td>\n",
       "      <td>17258</td>\n",
       "      <td>16582</td>\n",
       "      <td>-676</td>\n",
       "      <td>100</td>\n",
       "      <td>False</td>\n",
       "      <td>7</td>\n",
       "      <td>7</td>\n",
       "      <td>0</td>\n",
       "      <td>0</td>\n",
       "      <td>False</td>\n",
       "      <td>False</td>\n",
       "      <td>100</td>\n",
       "    </tr>\n",
       "    <tr>\n",
       "      <th>1</th>\n",
       "      <td>LA1_1642962195</td>\n",
       "      <td>200</td>\n",
       "      <td>18372</td>\n",
       "      <td>15515</td>\n",
       "      <td>-2857</td>\n",
       "      <td>100</td>\n",
       "      <td>False</td>\n",
       "      <td>8</td>\n",
       "      <td>3</td>\n",
       "      <td>-5</td>\n",
       "      <td>100</td>\n",
       "      <td>True</td>\n",
       "      <td>False</td>\n",
       "      <td>100</td>\n",
       "    </tr>\n",
       "    <tr>\n",
       "      <th>2</th>\n",
       "      <td>LA1_1642710668</td>\n",
       "      <td>200</td>\n",
       "      <td>16587</td>\n",
       "      <td>14087</td>\n",
       "      <td>-2500</td>\n",
       "      <td>100</td>\n",
       "      <td>False</td>\n",
       "      <td>6</td>\n",
       "      <td>2</td>\n",
       "      <td>-4</td>\n",
       "      <td>100</td>\n",
       "      <td>True</td>\n",
       "      <td>False</td>\n",
       "      <td>100</td>\n",
       "    </tr>\n",
       "    <tr>\n",
       "      <th>3</th>\n",
       "      <td>LA1_1642704329</td>\n",
       "      <td>200</td>\n",
       "      <td>16754</td>\n",
       "      <td>16985</td>\n",
       "      <td>231</td>\n",
       "      <td>200</td>\n",
       "      <td>False</td>\n",
       "      <td>7</td>\n",
       "      <td>8</td>\n",
       "      <td>1</td>\n",
       "      <td>200</td>\n",
       "      <td>False</td>\n",
       "      <td>True</td>\n",
       "      <td>200</td>\n",
       "    </tr>\n",
       "    <tr>\n",
       "      <th>4</th>\n",
       "      <td>LA1_1642695796</td>\n",
       "      <td>200</td>\n",
       "      <td>16144</td>\n",
       "      <td>17291</td>\n",
       "      <td>1147</td>\n",
       "      <td>200</td>\n",
       "      <td>False</td>\n",
       "      <td>7</td>\n",
       "      <td>8</td>\n",
       "      <td>1</td>\n",
       "      <td>200</td>\n",
       "      <td>False</td>\n",
       "      <td>False</td>\n",
       "      <td>100</td>\n",
       "    </tr>\n",
       "  </tbody>\n",
       "</table>\n",
       "</div>"
      ],
      "text/plain": [
       "         match_id  my_team  team1_gold  team2_gold  gold_diff  \\\n",
       "0  LA1_1642972444      200       17258       16582       -676   \n",
       "1  LA1_1642962195      200       18372       15515      -2857   \n",
       "2  LA1_1642710668      200       16587       14087      -2500   \n",
       "3  LA1_1642704329      200       16754       16985        231   \n",
       "4  LA1_1642695796      200       16144       17291       1147   \n",
       "\n",
       "   gold_leading_team  my_team_ahead_gold  team1_kills  team2_kills  kill_diff  \\\n",
       "0                100               False            7            7          0   \n",
       "1                100               False            8            3         -5   \n",
       "2                100               False            6            2         -4   \n",
       "3                200               False            7            8          1   \n",
       "4                200               False            7            8          1   \n",
       "\n",
       "   kill_leading_team  my_team_ahead_kills  my_team_win  winner  \n",
       "0                  0                False        False     100  \n",
       "1                100                 True        False     100  \n",
       "2                100                 True        False     100  \n",
       "3                200                False         True     200  \n",
       "4                200                False        False     100  "
      ]
     },
     "execution_count": 10,
     "metadata": {},
     "output_type": "execute_result"
    }
   ],
   "source": [
    "df"
   ]
  }
 ],
 "metadata": {
  "kernelspec": {
   "display_name": "venv",
   "language": "python",
   "name": "python3"
  },
  "language_info": {
   "codemirror_mode": {
    "name": "ipython",
    "version": 3
   },
   "file_extension": ".py",
   "mimetype": "text/x-python",
   "name": "python",
   "nbconvert_exporter": "python",
   "pygments_lexer": "ipython3",
   "version": "3.12.7"
  }
 },
 "nbformat": 4,
 "nbformat_minor": 5
}
