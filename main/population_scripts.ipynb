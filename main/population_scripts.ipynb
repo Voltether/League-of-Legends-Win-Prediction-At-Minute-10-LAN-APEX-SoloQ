{
 "cells": [
  {
   "cell_type": "markdown",
   "id": "17707db2",
   "metadata": {},
   "source": [
    "El siguiente .ipynb se usa para obtener la población sobre la cual se realizará el análisis, es decir, se obtienen jugadores de un determinado rango y luego se obtienen sus historiales de partidas.\n",
    "\n",
    "Se presentan 2 bloques, uno para las ladders de Hierro hasta Diamante, y otro para los 250 GM más altos y toda la ladder de challenger\n"
   ]
  },
  {
   "cell_type": "code",
   "execution_count": null,
   "id": "728a186d",
   "metadata": {},
   "outputs": [],
   "source": [
    "import requests\n",
    "import pandas as pd\n",
    "import os\n",
    "from dotenv import load_dotenv\n",
    "load_dotenv()\n",
    "\n",
    "division = 'I'\n",
    "tier = 'DIAMOND'\n",
    "page = '1'\n",
    "ladder_csv = 'ladder_apex_csv.csv'\n",
    "api_key = os.getenv('RIOT_API_KEY')"
   ]
  },
  {
   "cell_type": "markdown",
   "id": "dc87321e",
   "metadata": {},
   "source": [
    "El siguiente bloque es para rangos NO APEX"
   ]
  },
  {
   "cell_type": "code",
   "execution_count": null,
   "id": "b1bfb2b2",
   "metadata": {},
   "outputs": [],
   "source": [
    "\n",
    "def get_population(tier, division, page, api_key):\n",
    "    link = f'https://la1.api.riotgames.com/lol/league/v4/entries/RANKED_SOLO_5x5/{tier}/{division}?page={page}&api_key={api_key}'\n",
    "    response = requests.get(link)\n",
    "    leaguev4 = response.json()\n",
    "\n",
    "    ladder = [summ['puuid'] for summ in leaguev4]\n",
    "\n",
    "    return ladder"
   ]
  },
  {
   "cell_type": "markdown",
   "id": "0062f479",
   "metadata": {},
   "source": [
    "El siguiente es para rangos APEX, específicamente challenger (200) y los 250 GM con más PL"
   ]
  },
  {
   "cell_type": "code",
   "execution_count": null,
   "id": "7d82561d",
   "metadata": {},
   "outputs": [],
   "source": [
    "from functions import get_gm_ladder, get_chall_ladder\n",
    "\n",
    "gm_ladder = get_gm_ladder(api_key=api_key)\n",
    "ch_ladder = get_chall_ladder(api_key=api_key)\n",
    "\n",
    "apex_ladder = ch_ladder + gm_ladder\n",
    "print(len(apex_ladder))\n",
    "\n",
    "df_ladder = pd.DataFrame(data = apex_ladder, columns=['puuid_apex'])"
   ]
  },
  {
   "cell_type": "markdown",
   "id": "9e6d5bd6",
   "metadata": {},
   "source": [
    "Dado que la Ladder no es constante a lo largo del tiempo, se guarda en un CSV par asegurar un control"
   ]
  },
  {
   "cell_type": "code",
   "execution_count": null,
   "id": "ffe15710",
   "metadata": {},
   "outputs": [],
   "source": [
    "df_ladder.to_csv(ladder_csv, index=False)\n",
    "df_ladder.tail()"
   ]
  },
  {
   "cell_type": "markdown",
   "id": "47fb1480",
   "metadata": {},
   "source": [
    "El siguiente bloque carga el .csv y lo convierte en una lista que contiene todos los PUUID de los jugadores APEX seleccionados"
   ]
  },
  {
   "cell_type": "code",
   "execution_count": null,
   "id": "73afaa29",
   "metadata": {},
   "outputs": [],
   "source": [
    "df_ladder = pd.read_csv('ladder_apex_csv.csv')  \n",
    "ladder_list = list(df_ladder['puuid_apex'])\n",
    "ladder_list"
   ]
  },
  {
   "cell_type": "markdown",
   "id": "4ec1e173",
   "metadata": {},
   "source": [
    "El siguiente bloque pasa un puuid a la vez y recopila \"$start - count$\" partidas de cada jugador. Esto nos dará la muestra para el modelo.\n",
    "NOTA: Para una muestra de 204 PUUID y un time.sleep(1.2) tuvo una duración total de 27.54mins, proceder con precaución y tiempo de sobra."
   ]
  },
  {
   "cell_type": "code",
   "execution_count": null,
   "id": "eb6a9b43",
   "metadata": {},
   "outputs": [],
   "source": [
    "matchtype = 'ranked'\n",
    "queueid = '420' #Default para SoloQ\n",
    "start = '15'\n",
    "count = '45'\n",
    "api_key = os.getenv('RIOT_API_KEY')\n",
    "csv_path = 'sample_csv.csv'"
   ]
  },
  {
   "cell_type": "code",
   "execution_count": null,
   "id": "29a3c5fa",
   "metadata": {},
   "outputs": [],
   "source": [
    "from functions import get_matchids, get_df_data\n",
    "import time\n",
    "\n",
    "all_data = []\n",
    "seen_matches = set()\n",
    "all_match_ids = []\n",
    "\n",
    "# matchid de cada jugador en ladder_list\n",
    "for summ in ladder_list:\n",
    "    matches = list(set(get_matchids(\n",
    "        puuid=summ,\n",
    "        queueid=queueid,\n",
    "        matchtype=matchtype,\n",
    "        start=start,\n",
    "        count=count,\n",
    "        api_key=api_key\n",
    "    )))\n",
    "    \n",
    "    new_matches = [m for m in matches if m not in seen_matches]\n",
    "    if not new_matches:\n",
    "        continue\n",
    "\n",
    "    # csv temporal\n",
    "    data_sample = get_df_data(history=new_matches, puuid=summ, api_key=api_key, csv_path=\"temp.csv\")\n",
    "    \n",
    "    # no repetidos\n",
    "    all_data.extend(data_sample)\n",
    "    seen_matches.update(new_matches)\n",
    "    \n",
    "    time.sleep(1.7)\n",
    "\n",
    "df_sample = pd.DataFrame(all_data)\n",
    "df_sample.drop_duplicates(subset=[\"match_id\"], inplace=True)\n",
    "\n",
    "df_sample.to_csv(\"sample_apex_csv.csv\", index=False)\n"
   ]
  },
  {
   "cell_type": "markdown",
   "id": "c467fa38",
   "metadata": {},
   "source": [
    "El siguiente bloque enriquece el .csv anterior, agregando 3 columnas nuevas, asosociadas a la primera sangre de torre, de drake y de heraldo."
   ]
  },
  {
   "cell_type": "code",
   "execution_count": null,
   "id": "bed80329",
   "metadata": {},
   "outputs": [],
   "source": [
    "df = pd.read_csv('sample_apex_csv.csv')\n",
    "api_key = os.getenv('RIOT_API_KEY')"
   ]
  },
  {
   "cell_type": "code",
   "execution_count": null,
   "id": "17c38be6",
   "metadata": {},
   "outputs": [],
   "source": [
    "import requests\n",
    "import pandas as pd\n",
    "import time\n",
    "from functions import get_tower_fb, get_drake_fb, get_herald_fb\n",
    "\n",
    "def enrich_with_objectives(df, api_key):\n",
    "    \"\"\"\n",
    "    Enriquecer un DataFrame con primeras torres, dragones y heraldos.\n",
    "    Agrega 3 columnas: tower_fb, drake_fb, herald_fb\n",
    "    \"\"\"\n",
    "    objectives_data = []\n",
    "\n",
    "    for match_id in df[\"match_id\"]:\n",
    "        try:\n",
    "            # Obtener timeline\n",
    "            timeline_url = f\"https://americas.api.riotgames.com/lol/match/v5/matches/{match_id}/timeline?api_key={api_key}\"\n",
    "            timeline_data = requests.get(timeline_url).json()\n",
    "\n",
    "            tower_fb = get_tower_fb(timeline_data)\n",
    "            drake_fb = get_drake_fb(timeline_data)\n",
    "            herald_fb = get_herald_fb(timeline_data)\n",
    "\n",
    "            objectives_data.append({\n",
    "                \"match_id\": match_id,\n",
    "                \"tower_fb\": tower_fb,\n",
    "                \"drake_fb\": drake_fb,\n",
    "                \"herald_fb\": herald_fb\n",
    "            })\n",
    "\n",
    "            time.sleep(1.2)  # evitar rate limit\n",
    "\n",
    "        except Exception as e:\n",
    "            print(f\"[{match_id}] Error en enrich_with_objectives: {e}\")\n",
    "            objectives_data.append({\n",
    "                \"match_id\": match_id,\n",
    "                \"tower_fb\": None,\n",
    "                \"drake_fb\": None,\n",
    "                \"herald_fb\": None\n",
    "            })\n",
    "\n",
    "    # Convertir en DataFrame\n",
    "    df_obj = pd.DataFrame(objectives_data)\n",
    "\n",
    "    # Merge con el original\n",
    "    df_merged = df.merge(df_obj, on=\"match_id\", how=\"left\")\n",
    "\n",
    "    # Reordenar columnas: insertar después de 'my_team_ahead_kills' y antes de 'my_team_win'\n",
    "    cols = list(df_merged.columns)\n",
    "    insert_at = cols.index(\"my_team_win\")  # antes de my_team_win\n",
    "    new_cols_order = (\n",
    "        cols[:insert_at] +\n",
    "        [\"tower_fb\", \"drake_fb\", \"herald_fb\"] +\n",
    "        cols[insert_at:]\n",
    "    )\n",
    "\n",
    "    df_final = df_merged[new_cols_order]\n",
    "\n",
    "    return df_final"
   ]
  },
  {
   "cell_type": "code",
   "execution_count": null,
   "id": "e8f5c4a3",
   "metadata": {},
   "outputs": [],
   "source": [
    "df_enriched = enrich_with_objectives(df = df, api_key=api_key)"
   ]
  },
  {
   "cell_type": "code",
   "execution_count": null,
   "id": "66f147b2",
   "metadata": {},
   "outputs": [],
   "source": [
    "df_enriched.to_csv('sample_apex_enriched_csv.csv', index = False)"
   ]
  }
 ],
 "metadata": {
  "language_info": {
   "name": "python"
  }
 },
 "nbformat": 4,
 "nbformat_minor": 5
}
